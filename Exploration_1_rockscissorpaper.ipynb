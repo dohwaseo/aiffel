{
 "cells": [
  {
   "cell_type": "code",
   "execution_count": 1,
   "id": "3d07a522",
   "metadata": {},
   "outputs": [],
   "source": [
    "# Import library\n",
    "import tensorflow as tf\n",
    "from tensorflow import keras\n",
    "from keras.utils.np_utils import to_categorical\n",
    "import numpy as np\n",
    "from sklearn.model_selection import train_test_split\n",
    "import matplotlib.pyplot as plt\n",
    "%matplotlib inline\n",
    "from PIL import Image\n",
    "import os, glob\n",
    "import math"
   ]
  },
  {
   "cell_type": "code",
   "execution_count": 2,
   "id": "ec93b732",
   "metadata": {},
   "outputs": [],
   "source": [
    "# Search directory hierarchy\n",
    "\n",
    "def search(dirname):\n",
    "    \n",
    "    filename = os.listdir(dirname)\n",
    "    \n",
    "    for file in filename:\n",
    "        \n",
    "        fullname = os.path.join(dirname, file)\n",
    "        print(fullname)"
   ]
  },
  {
   "cell_type": "code",
   "execution_count": 3,
   "id": "b6226c14",
   "metadata": {},
   "outputs": [
    {
     "name": "stdout",
     "output_type": "stream",
     "text": [
      "/home/dohwaseo/aiffel/rock_scissor_paper/scissor\n",
      "/home/dohwaseo/aiffel/rock_scissor_paper/paper\n",
      "/home/dohwaseo/aiffel/rock_scissor_paper/.ipynb_checkpoints\n",
      "/home/dohwaseo/aiffel/rock_scissor_paper/rock\n"
     ]
    }
   ],
   "source": [
    "search('/home/dohwaseo/aiffel/rock_scissor_paper')"
   ]
  },
  {
   "cell_type": "code",
   "execution_count": 4,
   "id": "b23facad",
   "metadata": {},
   "outputs": [],
   "source": [
    "# Data Preprocessing\n",
    "\n",
    "def image_dir_path(path: str):\n",
    "    \n",
    "    image_path = os.getenv(\"HOME\") + \"/aiffel/rock_scissor_paper/{}\".format(path)\n",
    "    return image_path\n",
    "    \n",
    "\n",
    "def image_len(path):\n",
    "    \n",
    "    image_path = os.getenv(\"HOME\") + \"/aiffel/rock_scissor_paper/{}\".format(path)\n",
    "    images = glob.glob(image_path + \"/*.jpg\")\n",
    "    return len(images)"
   ]
  },
  {
   "cell_type": "code",
   "execution_count": 5,
   "id": "66c9112c",
   "metadata": {},
   "outputs": [
    {
     "name": "stdout",
     "output_type": "stream",
     "text": [
      "paper의 개수는: 1631\n",
      "rock의 개수는: 1630\n",
      "scissor의 개수는: 1635\n"
     ]
    }
   ],
   "source": [
    "print(\"paper의 개수는:\", image_len(\"paper\"))\n",
    "print(\"rock의 개수는:\", image_len(\"rock\"))\n",
    "print(\"scissor의 개수는:\", image_len(\"scissor\"))"
   ]
  },
  {
   "cell_type": "markdown",
   "id": "250fb587",
   "metadata": {},
   "source": [
    "##### 충분한 수의 데이터를 보유하는 듯 하다!"
   ]
  },
  {
   "cell_type": "code",
   "execution_count": 7,
   "id": "0c224ac0",
   "metadata": {},
   "outputs": [],
   "source": [
    "# 224 x 224 -> 64 x 64 resizing \n",
    "\n",
    "def resize_images(img_path):\n",
    "    \n",
    "    images = glob.glob(img_path + \"/*.jpg\")\n",
    "    print(len(images), \" images to be resized.\")\n",
    "\n",
    "    target_size=(64,64)\n",
    "    \n",
    "    for img in images:\n",
    "        \n",
    "        old_img=Image.open(img)\n",
    "        new_img=old_img.resize(target_size,Image.ANTIALIAS)\n",
    "        new_img.save(img, \"JPEG\")\n",
    "        \n",
    "    print(\"Resize completed\")"
   ]
  },
  {
   "cell_type": "code",
   "execution_count": 8,
   "id": "6a1f0020",
   "metadata": {},
   "outputs": [
    {
     "name": "stdout",
     "output_type": "stream",
     "text": [
      "1631  images to be resized.\n",
      "Resize completed\n",
      "1630  images to be resized.\n",
      "Resize completed\n",
      "1635  images to be resized.\n",
      "Resize completed\n"
     ]
    }
   ],
   "source": [
    "resize_images(image_dir_path(\"paper\"))\n",
    "resize_images(image_dir_path(\"rock\"))\n",
    "resize_images(image_dir_path(\"scissor\"))"
   ]
  },
  {
   "cell_type": "code",
   "execution_count": 9,
   "id": "d6975be6",
   "metadata": {},
   "outputs": [
    {
     "name": "stdout",
     "output_type": "stream",
     "text": [
      "학습데이터(x_train)의 이미지 개수는 4896 입니다.\n",
      "x_train shape: (4896, 64, 64, 3)\n",
      "y_train shape: (4896,)\n"
     ]
    }
   ],
   "source": [
    "# Load Train data\n",
    "train_data_sum = image_len(\"paper\")+image_len(\"rock\")+image_len(\"scissor\")\n",
    "\n",
    "def load_data(img_path, number_of_data):  \n",
    "    # 가위 : 0, 바위 : 1, 보 : 2\n",
    "    img_size=64\n",
    "    color=3\n",
    "    #이미지 데이터와 라벨(가위 : 0, 바위 : 1, 보 : 2) 데이터를 담을 행렬(matrix) 영역을 생성합니다.\n",
    "    imgs = np.zeros(number_of_data*img_size*img_size*color,dtype=np.int32).reshape(number_of_data,img_size,img_size,color)\n",
    "    labels = np.zeros(number_of_data,dtype=np.int32)\n",
    "\n",
    "    idx=0\n",
    "    for file in glob.iglob(img_path+'/scissor/*.jpg'):\n",
    "        img = np.array(Image.open(file),dtype=np.int32)\n",
    "        imgs[idx,:,:,:]=img    # 데이터 영역에 이미지 행렬을 복사\n",
    "        labels[idx]=0   # 가위 : 0\n",
    "        idx=idx+1\n",
    "\n",
    "    for file in glob.iglob(img_path+'/rock/*.jpg'):\n",
    "        img = np.array(Image.open(file),dtype=np.int32)\n",
    "        imgs[idx,:,:,:]=img    # 데이터 영역에 이미지 행렬을 복사\n",
    "        labels[idx]=1   # 바위 : 1\n",
    "        idx=idx+1  \n",
    "    \n",
    "    for file in glob.iglob(img_path+'/paper/*.jpg'):\n",
    "        img = np.array(Image.open(file),dtype=np.int32)\n",
    "        imgs[idx,:,:,:]=img    # 데이터 영역에 이미지 행렬을 복사\n",
    "        labels[idx]=2   # 보 : 2\n",
    "        idx=idx+1\n",
    "        \n",
    "    print(\"학습데이터(x_train)의 이미지 개수는\", idx,\"입니다.\")\n",
    "    return imgs, labels\n",
    "\n",
    "image_dir_path = os.getenv(\"HOME\") + \"/aiffel/rock_scissor_paper\"\n",
    "(x_train, y_train)=load_data(image_dir_path, train_data_sum)\n",
    "\n",
    "print(\"x_train shape: {}\".format(x_train.shape))\n",
    "print(\"y_train shape: {}\".format(y_train.shape))"
   ]
  },
  {
   "cell_type": "code",
   "execution_count": 10,
   "id": "7359c6d7",
   "metadata": {},
   "outputs": [
    {
     "name": "stdout",
     "output_type": "stream",
     "text": [
      "(2937, 64, 64, 3) (2937, 3) (979, 64, 64, 3) (979, 3) (980, 64, 64, 3) (980, 3)\n"
     ]
    }
   ],
   "source": [
    "# set validation data\n",
    "\n",
    "x_train, x_test, y_train, y_test = train_test_split(x_train, y_train,\n",
    "                                                   test_size = 0.4,\n",
    "                                                    random_state = 1)\n",
    "\n",
    "x_val, x_test, y_val, y_test = train_test_split(x_test, y_test,\n",
    "                                               test_size = 0.5,\n",
    "                                               random_state = 2)\n",
    "\n",
    "x_train = x_train.astype('float32')/255.0   # 입력은 0~1 사이의 값으로 정규화\n",
    "y_train = to_categorical(y_train)\n",
    "x_val = x_val.astype('float32')/255.0 \n",
    "y_val = to_categorical(y_val)\n",
    "x_test = x_test.astype('float32')/255.0\n",
    "y_test = to_categorical(y_test)\n",
    "\n",
    "print(x_train.shape, y_train.shape, x_val.shape, y_val.shape, x_test.shape, y_test.shape)"
   ]
  },
  {
   "cell_type": "code",
   "execution_count": 11,
   "id": "d3163b75",
   "metadata": {},
   "outputs": [
    {
     "name": "stdout",
     "output_type": "stream",
     "text": [
      "label:  [1. 0. 0.]\n",
      "(979, 64, 64, 3) (979, 3) (2937, 64, 64, 3) (2937, 3)\n"
     ]
    },
    {
     "data": {
      "image/png": "[encoded data removed]",
      "text/plain": [
       "<Figure size 432x288 with 1 Axes>"
      ]
     },
     "metadata": {
      "needs_background": "light"
     },
     "output_type": "display_data"
    }
   ],
   "source": [
    "# Display image\n",
    "\n",
    "plt.imshow(x_train[0])\n",
    "print('label: ', y_train[0])\n",
    "print(x_val.shape, y_val.shape, x_train.shape, y_train.shape)"
   ]
  },
  {
   "cell_type": "code",
   "execution_count": 12,
   "id": "4cd0d163",
   "metadata": {},
   "outputs": [
    {
     "name": "stdout",
     "output_type": "stream",
     "text": [
      "Model: \"sequential\"\n",
      "_________________________________________________________________\n",
      "Layer (type)                 Output Shape              Param #   \n",
      "=================================================================\n",
      "conv2d (Conv2D)              (None, 62, 62, 64)        1792      \n",
      "_________________________________________________________________\n",
      "max_pooling2d (MaxPooling2D) (None, 31, 31, 64)        0         \n",
      "_________________________________________________________________\n",
      "conv2d_1 (Conv2D)            (None, 29, 29, 128)       73856     \n",
      "_________________________________________________________________\n",
      "max_pooling2d_1 (MaxPooling2 (None, 14, 14, 128)       0         \n",
      "_________________________________________________________________\n",
      "conv2d_2 (Conv2D)            (None, 12, 12, 128)       147584    \n",
      "_________________________________________________________________\n",
      "max_pooling2d_2 (MaxPooling2 (None, 6, 6, 128)         0         \n",
      "_________________________________________________________________\n",
      "flatten (Flatten)            (None, 4608)              0         \n",
      "_________________________________________________________________\n",
      "dense (Dense)                (None, 512)               2359808   \n",
      "_________________________________________________________________\n",
      "dropout (Dropout)            (None, 512)               0         \n",
      "_________________________________________________________________\n",
      "dense_1 (Dense)              (None, 3)                 1539      \n",
      "=================================================================\n",
      "Total params: 2,584,579\n",
      "Trainable params: 2,584,579\n",
      "Non-trainable params: 0\n",
      "_________________________________________________________________\n",
      "Epoch 1/10\n",
      "92/92 [==============================] - 2s 6ms/step - loss: 1.1021 - accuracy: 0.3408 - val_loss: 1.1211 - val_accuracy: 0.3442\n",
      "Epoch 2/10\n",
      "92/92 [==============================] - 0s 4ms/step - loss: 1.0015 - accuracy: 0.4774 - val_loss: 0.8587 - val_accuracy: 0.5975\n",
      "Epoch 3/10\n",
      "92/92 [==============================] - 0s 4ms/step - loss: 0.7057 - accuracy: 0.6840 - val_loss: 0.5745 - val_accuracy: 0.7630\n",
      "Epoch 4/10\n",
      "92/92 [==============================] - 0s 4ms/step - loss: 0.4824 - accuracy: 0.7967 - val_loss: 0.3381 - val_accuracy: 0.8703\n",
      "Epoch 5/10\n",
      "92/92 [==============================] - 0s 5ms/step - loss: 0.3311 - accuracy: 0.8662 - val_loss: 0.2252 - val_accuracy: 0.9142\n",
      "Epoch 6/10\n",
      "92/92 [==============================] - 0s 4ms/step - loss: 0.2244 - accuracy: 0.9224 - val_loss: 0.1975 - val_accuracy: 0.9213\n",
      "Epoch 7/10\n",
      "92/92 [==============================] - 0s 4ms/step - loss: 0.1448 - accuracy: 0.9527 - val_loss: 0.1208 - val_accuracy: 0.9591\n",
      "Epoch 8/10\n",
      "92/92 [==============================] - 0s 5ms/step - loss: 0.1122 - accuracy: 0.9632 - val_loss: 0.0635 - val_accuracy: 0.9785\n",
      "Epoch 9/10\n",
      "92/92 [==============================] - 0s 4ms/step - loss: 0.0860 - accuracy: 0.9704 - val_loss: 0.0641 - val_accuracy: 0.9704\n",
      "Epoch 10/10\n",
      "92/92 [==============================] - 0s 4ms/step - loss: 0.0754 - accuracy: 0.9748 - val_loss: 0.1056 - val_accuracy: 0.9642\n"
     ]
    },
    {
     "data": {
      "image/png": "[encoded data removed]",
      "text/plain": [
       "<Figure size 432x288 with 2 Axes>"
      ]
     },
     "metadata": {
      "needs_background": "light"
     },
     "output_type": "display_data"
    }
   ],
   "source": [
    "# Model build\n",
    "\n",
    "model=keras.models.Sequential()\n",
    "model.add(keras.layers.Conv2D(64, (3,3), activation='relu', input_shape=(64,64,3)))\n",
    "model.add(keras.layers.MaxPool2D(2,2))\n",
    "\n",
    "model.add(keras.layers.Conv2D(128, (3,3), activation='relu'))\n",
    "model.add(keras.layers.MaxPooling2D((2,2)))\n",
    "\n",
    "\n",
    "model.add(keras.layers.Conv2D(128, (3,3), activation='relu'))\n",
    "model.add(keras.layers.MaxPooling2D((2,2)))\n",
    "\n",
    "\n",
    "\n",
    "model.add(keras.layers.Flatten())\n",
    "model.add(keras.layers.Dense(512, activation='relu'))\n",
    "model.add(keras.layers.Dropout(0.7))\n",
    "model.add(keras.layers.Dense(3, activation='softmax'))\n",
    "\n",
    "model.summary()\n",
    "model.compile(optimizer='adam',\n",
    "             loss='categorical_crossentropy',\n",
    "             metrics=['accuracy'])\n",
    "\n",
    "\n",
    "hist = model.fit(x_train, y_train,\n",
    "                 epochs=10,\n",
    "                 validation_data = (x_val, y_val))\n",
    "\n",
    "# display training process \n",
    "fig, loss_ax = plt.subplots()\n",
    "\n",
    "acc_ax = loss_ax.twinx()\n",
    "\n",
    "loss_ax.plot(hist.history['loss'], 'y', label='train loss')\n",
    "loss_ax.plot(hist.history['val_loss'], 'r', label='val loss')\n",
    "\n",
    "acc_ax.plot(hist.history['accuracy'], 'b', label='train acc')\n",
    "acc_ax.plot(hist.history['val_accuracy'], 'g', label='val acc')\n",
    "\n",
    "loss_ax.set_xlabel('epoch')\n",
    "loss_ax.set_ylabel('loss')\n",
    "acc_ax.set_ylabel('accuray')\n",
    "\n",
    "loss_ax.legend(loc='upper left')\n",
    "acc_ax.legend(loc='lower left')\n",
    "\n",
    "plt.show()"
   ]
  },
  {
   "cell_type": "code",
   "execution_count": 13,
   "id": "39a88e8d",
   "metadata": {},
   "outputs": [
    {
     "name": "stdout",
     "output_type": "stream",
     "text": [
      "31/31 - 0s - loss: 0.1073 - accuracy: 0.9633\n",
      "test_loss: 0.10725396871566772 \n",
      "test_accuracy: 0.9632652997970581\n"
     ]
    }
   ],
   "source": [
    "#model evaluate\n",
    "\n",
    "test_loss, test_accuracy = model.evaluate(x_test, y_test, verbose=2)\n",
    "print(\"test_loss: {} \".format(test_loss))\n",
    "print(\"test_accuracy: {}\".format(test_accuracy))"
   ]
  }
 ],
 "metadata": {
  "kernelspec": {
   "display_name": "Python 3",
   "language": "python",
   "name": "python3"
  },
  "language_info": {
   "codemirror_mode": {
    "name": "ipython",
    "version": 3
   },
   "file_extension": ".py",
   "mimetype": "text/x-python",
   "name": "python",
   "nbconvert_exporter": "python",
   "pygments_lexer": "ipython3",
   "version": "3.7.9"
  }
 },
 "nbformat": 4,
 "nbformat_minor": 5
}
